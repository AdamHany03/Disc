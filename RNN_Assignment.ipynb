{
  "nbformat": 4,
  "nbformat_minor": 0,
  "metadata": {
    "colab": {
      "provenance": [],
      "authorship_tag": "ABX9TyPikKJxlCbdxarrXlExMQbR",
      "include_colab_link": true
    },
    "kernelspec": {
      "name": "python3",
      "display_name": "Python 3"
    },
    "language_info": {
      "name": "python"
    }
  },
  "cells": [
    {
      "cell_type": "markdown",
      "metadata": {
        "id": "view-in-github",
        "colab_type": "text"
      },
      "source": [
        "<a href=\"https://colab.research.google.com/github/AdamHany03/Disc/blob/main/RNN_Assignment.ipynb\" target=\"_parent\"><img src=\"https://colab.research.google.com/assets/colab-badge.svg\" alt=\"Open In Colab\"/></a>"
      ]
    },
    {
      "cell_type": "code",
      "execution_count": null,
      "metadata": {
        "id": "CuhP_8RrbDvG"
      },
      "outputs": [],
      "source": [
        "import torch\n",
        "import torch.nn as nn\n",
        "import torch.optim as optim"
      ]
    },
    {
      "cell_type": "code",
      "source": [
        "words = [\"Lewis\", \"Hamilton\", \"Won\", \"Championships\"]\n",
        "word_to_ix = {word: i for i, word in enumerate(words)}\n",
        "ix_to_word = {i: word for word, i in word_to_ix.items()}\n",
        "\n",
        "inputs = torch.tensor([word_to_ix[\"Lewis\"], word_to_ix[\"Hamilton\"], word_to_ix[\"Won\"]])\n",
        "target = torch.tensor([word_to_ix[\"Championships\"]])\n",
        "\n",
        "class RNN(nn.Module):\n",
        "    def __init__(self, vocab_size, emb_size, hidden_size):\n",
        "        super(RNN, self).__init__()\n",
        "        self.emb = nn.Embedding(vocab_size, emb_size)\n",
        "        self.rnn = nn.RNN(emb_size, hidden_size)\n",
        "        self.fc = nn.Linear(hidden_size, vocab_size)\n",
        "\n",
        "    def forward(self, x):\n",
        "        x = self.emb(x)\n",
        "        x = x.view(len(x), 1, -1)\n",
        "        out, _ = self.rnn(x)\n",
        "        out = self.fc(out[-1])\n",
        "        return out"
      ],
      "metadata": {
        "id": "MrOMzPwTfKVA"
      },
      "execution_count": null,
      "outputs": []
    },
    {
      "cell_type": "code",
      "source": [
        "class RNN(nn.Module):\n",
        "    def __init__(self, vocab_size, emb_size, hidden_size):\n",
        "        super(RNN, self).__init__()\n",
        "        self.emb = nn.Embedding(vocab_size, emb_size)\n",
        "        self.rnn = nn.RNN(emb_size, hidden_size)\n",
        "        self.fc = nn.Linear(hidden_size, vocab_size)\n",
        "\n",
        "    def forward(self, x):\n",
        "        x = self.emb(x)\n",
        "        x = x.view(len(x), 1, -1)\n",
        "        out, _ = self.rnn(x)\n",
        "        out = self.fc(out[-1])\n",
        "        return out"
      ],
      "metadata": {
        "id": "ecdzdXmbfb7k"
      },
      "execution_count": null,
      "outputs": []
    },
    {
      "cell_type": "code",
      "source": [
        "vocab_size = len(word_to_ix)\n",
        "model = RNN(vocab_size, emb_size=8, hidden_size=12)\n",
        "loss_fn = nn.CrossEntropyLoss()\n",
        "optimizer = optim.Adam(model.parameters(), lr=0.01)"
      ],
      "metadata": {
        "id": "fjLhGEweflAq"
      },
      "execution_count": null,
      "outputs": []
    },
    {
      "cell_type": "code",
      "source": [
        "for epoch in range(200):\n",
        "    optimizer.zero_grad()\n",
        "    out = model(inputs)\n",
        "    loss = loss_fn(out, target)\n",
        "    loss.backward()\n",
        "    optimizer.step()\n",
        "\n",
        "    if (epoch + 1) % 50 == 0:\n",
        "        print(f\"Epoch {epoch+1}, Loss: {loss.item():.4f}\")\n",
        "\n",
        "with torch.no_grad():\n",
        "    output = model(inputs)\n",
        "    pred_index = torch.argmax(output).item()\n",
        "    print(\"Model thinks the 4th word is:\", ix_to_word[pred_index])"
      ],
      "metadata": {
        "colab": {
          "base_uri": "https://localhost:8080/"
        },
        "id": "NY5c0__8foO5",
        "outputId": "cd4de3df-125c-4a1a-b431-5f4b67ff658c"
      },
      "execution_count": null,
      "outputs": [
        {
          "output_type": "stream",
          "name": "stdout",
          "text": [
            "Epoch 50, Loss: 0.0009\n",
            "Epoch 100, Loss: 0.0007\n",
            "Epoch 150, Loss: 0.0006\n",
            "Epoch 200, Loss: 0.0005\n",
            "Model thinks the 4th word is: Championships\n"
          ]
        }
      ]
    }
  ]
}